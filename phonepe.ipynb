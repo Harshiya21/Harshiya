{
 "cells": [
  {
   "cell_type": "code",
   "execution_count": null,
   "metadata": {},
   "outputs": [],
   "source": [
    "import git\n",
    "repository_url = \"https://github.com/PhonePe/pulse.git\"\n",
    "#destination_directory = \"C:\\Users\\nawas\\Desktop\\PHONE_PAY\\data\"\n",
    "destination_directory = r\"C:\\Users\\nawas\\Desktop\\PHONE_PAY\"\n",
    "git.Repo.clone_from(repository_url, destination_directory)"
   ]
  },
  {
   "cell_type": "code",
   "execution_count": null,
   "metadata": {},
   "outputs": [],
   "source": [
    "#Agg_Trans\n",
    "import pandas as pd\n",
    "import json\n",
    "import os\n",
    "\n",
    "#This is to direct the path to get the data as states\n",
    "\n",
    "path=\"c:/Users/nawas/Desktop/PHONE_PAY/data/aggregated/transaction/country/india/state/\"\n",
    "Agg_state_list=os.listdir(path)\n",
    "Agg_state_list\n",
    "\n",
    "clm={'State':[], 'Year':[],'Quater':[],'Transacion_type':[], 'Transacion_count':[], 'Transacion_amount':[]}\n",
    "\n",
    "for i in Agg_state_list:\n",
    "  p_i=path+i+\"/\"\n",
    "  Agg_yr=os.listdir(p_i)\n",
    "  for j in Agg_yr:\n",
    "    p_j=p_i+j+\"/\"\n",
    "    Agg_yr_list=os.listdir(p_j)\n",
    "    for k in Agg_yr_list:\n",
    "      p_k=p_j+k\n",
    "      Data=open(p_k,'r')\n",
    "      A=json.load(Data)\n",
    "      for z in A['data']['transactionData']:\n",
    "        Name=z['name']\n",
    "        count=z['paymentInstruments'][0]['count']\n",
    "        amount=z['paymentInstruments'][0]['amount']\n",
    "        clm['Transacion_type'].append(Name)\n",
    "        clm['Transacion_count'].append(count)\n",
    "        clm['Transacion_amount'].append(amount)\n",
    "        clm['State'].append(i)\n",
    "        clm['Year'].append(j)\n",
    "        clm['Quater'].append(int(k.strip('.json')))"
   ]
  },
  {
   "cell_type": "code",
   "execution_count": null,
   "metadata": {},
   "outputs": [],
   "source": [
    "#Succesfully created a dataframe\n",
    "Agg_Trans=pd.DataFrame(clm)\n",
    "Agg_Trans['State']= Agg_Trans['State'].str.replace(\"andaman-&-nicobar-islands\",\"Andaman & Nicobar\")\n",
    "Agg_Trans['State']= Agg_Trans['State'].str.replace(\"-\",\" \")\n",
    "Agg_Trans['State']= Agg_Trans['State'].str.replace(\"dadra-&-nagar-haveli-&-daman-&-diu\",\"Dadra & Nagar Haveli & Daman & Diu \")\n",
    "Agg_Trans['State']= Agg_Trans['State'].str.title()"
   ]
  },
  {
   "cell_type": "code",
   "execution_count": null,
   "metadata": {},
   "outputs": [],
   "source": [
    "#AGG_USER\n",
    "import pandas as pd\n",
    "import json\n",
    "import os\n",
    "#This is to direct the path to get the data as states\n",
    "\n",
    "path1=\"c:/Users/nawas/Desktop/PHONE_PAY/data/aggregated/user/country/india/state/\"\n",
    "Agg_state_list=os.listdir(path1)\n",
    "Agg_state_list\n",
    "\n",
    "clm1={'State':[], 'Year':[],'Quater':[],'Brand':[],'Count':[],'Percentage':[]}\n",
    "\n",
    "for i in Agg_state_list:\n",
    "    p_i=path1+i+\"/\"\n",
    "    Agg_yr=os.listdir(p_i)\n",
    "    for j in Agg_yr:\n",
    "        p_j=p_i+j+\"/\"\n",
    "        Agg_yr_list=os.listdir(p_j)\n",
    "        for k in Agg_yr_list:\n",
    "            p_k=p_j+k\n",
    "            Data=open(p_k,'r')\n",
    "            B=json.load(Data)\n",
    "        try:\n",
    "            for z in B['data']['usersByDevice']:\n",
    "                Brand=z['brand']\n",
    "                count=z['count']\n",
    "                Percentage=z['percentage']\n",
    "                clm1['Brand'].append(Brand)\n",
    "                clm1['Count'].append(count)\n",
    "                clm1['Percentage'].append(Percentage)\n",
    "                clm1['State'].append(i)\n",
    "                clm1['Year'].append(j)\n",
    "                clm1['Quater'].append(int(k.strip('.json')))\n",
    "        except:\n",
    "            pass"
   ]
  },
  {
   "cell_type": "code",
   "execution_count": null,
   "metadata": {},
   "outputs": [],
   "source": [
    "#Succesfully created a dataframe\n",
    "Agg_Users=pd.DataFrame(clm1)\n",
    "Agg_Users['State']= Agg_Users['State'].str.replace(\"andaman-&-nicobar-islands\",\"Andaman & Nicobar\")\n",
    "Agg_Users['State']= Agg_Users['State'].str.replace(\"-\",\" \")\n",
    "Agg_Users['State']= Agg_Users['State'].str.replace(\"dadra-&-nagar-haveli-&-daman-&-diu\",\"Dadra & Nagar Haveli & Daman & Diu \")\n",
    "Agg_Users['State']= Agg_Users['State'].str.title()"
   ]
  },
  {
   "cell_type": "code",
   "execution_count": null,
   "metadata": {},
   "outputs": [],
   "source": [
    "#MAP trans\n",
    "import pandas as pd\n",
    "import json\n",
    "import os\n",
    "\n",
    "path2=\"c:/Users/nawas/Desktop/PHONE_PAY/data/map/transaction/hover/country/india/state/\"\n",
    "Map_state_list=os.listdir(path2)\n",
    "Map_state_list\n",
    "\n",
    "clm2={'State':[], 'Year':[],'Quater':[],'District':[],'Metric_count':[],'Metric_amount':[]}\n",
    "\n",
    "for i in Map_state_list:\n",
    "  p_i=path2+i+\"/\"\n",
    "  Map_yr=os.listdir(p_i)\n",
    "  for j in Map_yr:\n",
    "    p_j=p_i+j+\"/\"\n",
    "    Map_yr_list=os.listdir(p_j)\n",
    "    for k in Map_yr_list:\n",
    "      p_k=p_j+k\n",
    "      Data=open(p_k,'r')\n",
    "      C=json.load(Data)\n",
    "      for z in C['data']['hoverDataList']:\n",
    "        Name=z['name']\n",
    "        count=z['metric'][0]['count']\n",
    "        amount=z['metric'][0]['amount']\n",
    "        clm2['District'].append(Name)\n",
    "        clm2['Metric_count'].append(count)\n",
    "        clm2['Metric_amount'].append(amount)\n",
    "        clm2['State'].append(i)\n",
    "        clm2['Year'].append(j)\n",
    "        clm2['Quater'].append(int(k.strip('.json')))"
   ]
  },
  {
   "cell_type": "code",
   "execution_count": null,
   "metadata": {},
   "outputs": [],
   "source": [
    "#Succesfully created a dataframe\n",
    "Map_Trans=pd.DataFrame(clm2)\n",
    "Map_Trans['State']= Map_Trans['State'].str.replace(\"andaman-&-nicobar-islands\",\"Andaman & Nicobar\")\n",
    "Map_Trans['State']= Map_Trans['State'].str.replace(\"-\",\" \")\n",
    "Map_Trans['State']= Map_Trans['State'].str.replace(\"dadra-&-nagar-haveli-&-daman-&-diu\",\"Dadra & Nagar Haveli & Daman & Diu \")\n",
    "Map_Trans['State']= Map_Trans['State'].str.title()"
   ]
  },
  {
   "cell_type": "code",
   "execution_count": null,
   "metadata": {},
   "outputs": [],
   "source": [
    "#MAP USERS\n",
    "\n",
    "import os\n",
    "import json\n",
    "import pandas as pd\n",
    "\n",
    "path3=\"c:/Users/nawas/Desktop/PHONE_PAY/data/map/user/hover/country/india/state/\"\n",
    "Map_state_list=os.listdir(path3)\n",
    "Map_state_list\n",
    "\n",
    "clm3={'State':[], 'Year':[],'Quater':[],'Districts':[],'RegisteredUsers':[],'AppOpens':[]}\n",
    "\n",
    "for i in Map_state_list:\n",
    "  p_i=path3+i+\"/\"\n",
    "  Map_yr=os.listdir(p_i)\n",
    "  for j in Map_yr:\n",
    "    p_j=p_i+j+\"/\"\n",
    "    Map_yr_list=os.listdir(p_j)\n",
    "    for k in Map_yr_list:\n",
    "      p_k=p_j+k\n",
    "      Data=open(p_k,'r')\n",
    "      D=json.load(Data)\n",
    "      for z in D['data']['hoverData'].items():\n",
    "        District=z[0]\n",
    "        registeredUsers=z[1]['registeredUsers']\n",
    "        appOpens=z[1]['appOpens']\n",
    "        clm3['Districts'].append(District)\n",
    "        clm3['RegisteredUsers'].append(registeredUsers)\n",
    "        clm3['AppOpens'].append(appOpens)\n",
    "        clm3['State'].append(i)\n",
    "        clm3['Year'].append(j)\n",
    "        clm3['Quater'].append(int(k.strip('.json')))"
   ]
  },
  {
   "cell_type": "code",
   "execution_count": null,
   "metadata": {},
   "outputs": [],
   "source": [
    "#Succesfully created a dataframe\n",
    "Map_Users=pd.DataFrame(clm3)\n",
    "Map_Users['State']= Map_Users['State'].str.replace(\"andaman-&-nicobar-islands\",\"Andaman & Nicobar\")\n",
    "Map_Users['State']= Map_Users['State'].str.replace(\"-\",\" \")\n",
    "Map_Users['State']= Map_Users['State'].str.replace(\"dadra-&-nagar-haveli-&-daman-&-diu\",\"Dadra & Nagar Haveli & Daman & Diu \")\n",
    "Map_Users['State']= Map_Users['State'].str.title()"
   ]
  },
  {
   "cell_type": "code",
   "execution_count": null,
   "metadata": {},
   "outputs": [],
   "source": [
    "#TOP_Trans\n",
    "import os\n",
    "import json\n",
    "import pandas as pd\n",
    "\n",
    "path4=\"c:/Users/nawas/Desktop/PHONE_PAY/data/top/transaction/country/india/state/\"\n",
    "Top_state_list=os.listdir(path4)\n",
    "Top_state_list\n",
    "\n",
    "clm4={'State':[], 'Year':[],'Quater':[],'Pincodes':[],'Metric_count':[],'Metric_amount':[]}\n",
    "\n",
    "for i in Top_state_list:\n",
    "  p_i=path4+i+\"/\"\n",
    "  Top_yr=os.listdir(p_i)\n",
    "  for j in Top_yr:\n",
    "    p_j=p_i+j+\"/\"\n",
    "    Top_yr_list=os.listdir(p_j)\n",
    "    for k in Top_yr_list:\n",
    "      p_k=p_j+k\n",
    "      Data=open(p_k,'r')\n",
    "      E=json.load(Data)\n",
    "      for z in E['data']['pincodes']:\n",
    "        entityName=z['entityName']\n",
    "        count=z['metric']['count']\n",
    "        amount=z['metric']['amount']\n",
    "        clm4['Pincodes'].append(entityName)\n",
    "        clm4['Metric_count'].append(count)\n",
    "        clm4['Metric_amount'].append(amount)\n",
    "        clm4['State'].append(i)\n",
    "        clm4['Year'].append(j)\n",
    "        clm4['Quater'].append(int(k.strip('.json')))"
   ]
  },
  {
   "cell_type": "code",
   "execution_count": null,
   "metadata": {},
   "outputs": [],
   "source": [
    "#Succesfully created a dataframe\n",
    "Top_trans=pd.DataFrame(clm4)\n",
    "Top_trans['State']= Top_trans['State'].str.replace(\"andaman-&-nicobar-islands\",\"Andaman & Nicobar\")\n",
    "Top_trans['State']= Top_trans['State'].str.replace(\"-\",\" \")\n",
    "Top_trans['State']= Top_trans['State'].str.replace(\"dadra-&-nagar-haveli-&-daman-&-diu\",\"Dadra & Nagar Haveli & Daman & Diu \")\n",
    "Top_trans['State']= Top_trans['State'].str.title()"
   ]
  },
  {
   "cell_type": "code",
   "execution_count": null,
   "metadata": {},
   "outputs": [],
   "source": [
    "#Top_Users\n",
    "\n",
    "import os\n",
    "import json\n",
    "import pandas as pd\n",
    "\n",
    "path5=\"c:/Users/nawas/Desktop/PHONE_PAY/data/top/user/country/india/state/\"\n",
    "Top_state_list=os.listdir(path5)\n",
    "Top_state_list\n",
    "\n",
    "clm5={'State':[], 'Year':[],'Quater':[],'Pincodes':[],'RegisteredUsers':[]}\n",
    "\n",
    "for i in Top_state_list:\n",
    "  p_i=path5+i+\"/\"\n",
    "  Top_yr=os.listdir(p_i)\n",
    "  for j in Top_yr:\n",
    "    p_j=p_i+j+\"/\"\n",
    "    Top_yr_list=os.listdir(p_j)\n",
    "    for k in Top_yr_list:\n",
    "      p_k=p_j+k\n",
    "      Data=open(p_k,'r')\n",
    "      F=json.load(Data)\n",
    "      for z in F['data']['pincodes']:\n",
    "        Name=z['name']\n",
    "        registeredUsers=z['registeredUsers']\n",
    "        clm5['Pincodes'].append(Name)\n",
    "        clm5['RegisteredUsers'].append(registeredUsers)\n",
    "        clm5['State'].append(i)\n",
    "        clm5['Year'].append(j)\n",
    "        clm5['Quater'].append(int(k.strip('.json')))"
   ]
  },
  {
   "cell_type": "code",
   "execution_count": null,
   "metadata": {},
   "outputs": [],
   "source": [
    "#Succesfully created a dataframe\n",
    "Top_Users=pd.DataFrame(clm5)\n",
    "Top_Users['State']= Top_Users['State'].str.replace(\"andaman-&-nicobar-islands\",\"Andaman & Nicobar\")\n",
    "Top_Users['State']= Top_Users['State'].str.replace(\"-\",\" \")\n",
    "Top_Users['State']= Top_Users['State'].str.replace(\"dadra-&-nagar-haveli-&-daman-&-diu\",\"Dadra & Nagar Haveli & Daman & Diu \")\n",
    "Top_Users['State']= Top_Users['State'].str.title()"
   ]
  },
  {
   "cell_type": "code",
   "execution_count": null,
   "metadata": {},
   "outputs": [],
   "source": [
    "import mysql.connector\n",
    "mydb = mysql.connector.connect(\n",
    "    host=\"localhost\",\n",
    "    user=\"root\",\n",
    "    password=\"\",\n",
    "    database=\"phonepae\")\n",
    "print(mydb)\n",
    "mycursor = mydb.cursor(buffered=True)"
   ]
  },
  {
   "cell_type": "code",
   "execution_count": null,
   "metadata": {},
   "outputs": [],
   "source": [
    "mycursor.execute('create database phonepae')"
   ]
  },
  {
   "cell_type": "code",
   "execution_count": null,
   "metadata": {},
   "outputs": [],
   "source": [
    "#Agg_Trans table creation\n",
    "Agg_Trans_table=mycursor.execute('''CREATE TABLE IF NOT EXISTS phonepae.Agg_Trans(State VARCHAR(255),\n",
    "                                                                Year INT,\n",
    "                                                                Quarter INT,\n",
    "                                                                Transaction_type VARCHAR(255),\n",
    "                                                                Transaction_count INT,\n",
    "                                                                Transaction_amount INT)''')\n",
    "mydb.commit()"
   ]
  },
  {
   "cell_type": "code",
   "execution_count": null,
   "metadata": {},
   "outputs": [],
   "source": [
    "#Agg_Trans inserting process\n",
    "Agg_Trans_insert='''INSERT INTO phonepae.Agg_Trans(State, Year, Quarter, Transaction_type, Transaction_count, Transaction_amount)\n",
    "VALUES(%s, %s, %s, %s, %s, %s) '''\n",
    "data=Agg_Trans.values.tolist()\n",
    "mycursor.executemany(Agg_Trans_insert,data)\n",
    "mydb.commit()"
   ]
  },
  {
   "cell_type": "code",
   "execution_count": null,
   "metadata": {},
   "outputs": [],
   "source": [
    "#Agg_Users table creation\n",
    "Agg_Users_table=mycursor.execute('''CREATE TABLE IF NOT EXISTS phonepae.Agg_Users(State VARCHAR(255),\n",
    "                                                                Year INT,\n",
    "                                                                Quarter INT,\n",
    "                                                                Brand VARCHAR(255),\n",
    "                                                                Count INT,\n",
    "                                                                Percentage FLOAT)''')\n",
    "mydb.commit()"
   ]
  },
  {
   "cell_type": "code",
   "execution_count": null,
   "metadata": {},
   "outputs": [],
   "source": [
    "#Agg_Users inserting process\n",
    "Agg_Users_insert='''INSERT INTO phonepae.Agg_Users(State, Year, Quarter, Brand, Count, Percentage)\n",
    "VALUES(%s, %s, %s, %s, %s, %s) '''\n",
    "data=Agg_Users.values.tolist()\n",
    "mycursor.executemany(Agg_Users_insert,data)\n",
    "mydb.commit()"
   ]
  },
  {
   "cell_type": "code",
   "execution_count": null,
   "metadata": {},
   "outputs": [],
   "source": [
    "#Map_Trans table creation\n",
    "Map_Trans_table=mycursor.execute('''CREATE TABLE IF NOT EXISTS phonepae.Map_Trans(State VARCHAR(255),\n",
    "                                                                Year INT,\n",
    "                                                                Quarter INT,\n",
    "                                                                District VARCHAR(255),\n",
    "                                                                Metric_count INT,\n",
    "                                                                Metric_amount INT)''')\n",
    "mydb.commit()"
   ]
  },
  {
   "cell_type": "code",
   "execution_count": null,
   "metadata": {},
   "outputs": [],
   "source": [
    "#Map_Trans inserting process\n",
    "Map_Trans_insert='''INSERT INTO phonepae.Map_Trans(State, Year, Quarter, District, Metric_count, Metric_amount)\n",
    "VALUES(%s, %s, %s, %s, %s, %s) '''\n",
    "data=Map_Trans.values.tolist()\n",
    "mycursor.executemany(Map_Trans_insert,data)\n",
    "mydb.commit()"
   ]
  },
  {
   "cell_type": "code",
   "execution_count": null,
   "metadata": {},
   "outputs": [],
   "source": [
    "#Map_Users table creation\n",
    "Map_Users_table=mycursor.execute('''CREATE TABLE IF NOT EXISTS phonepae.Map_Users(State VARCHAR(255),\n",
    "                                                                Year INT,\n",
    "                                                                Quarter INT,\n",
    "                                                                Districts VARCHAR(255),\n",
    "                                                                RegisteredUsers INT,\n",
    "                                                                AppOpens INT)''')\n",
    "mydb.commit()"
   ]
  },
  {
   "cell_type": "code",
   "execution_count": null,
   "metadata": {},
   "outputs": [],
   "source": [
    "#Map_Users inserting process\n",
    "Map_Users_insert='''INSERT INTO phonepae.Map_Users(State, Year, Quarter, Districts, RegisteredUsers, AppOpens)\n",
    "VALUES(%s, %s, %s, %s, %s, %s) '''\n",
    "data=Map_Users.values.tolist()\n",
    "mycursor.executemany(Map_Users_insert,data)\n",
    "mydb.commit()"
   ]
  },
  {
   "cell_type": "code",
   "execution_count": null,
   "metadata": {},
   "outputs": [],
   "source": [
    "#Top_Trans table creation\n",
    "Top_trans_table=mycursor.execute('''CREATE TABLE IF NOT EXISTS phonepae.Top_trans(State VARCHAR(255),\n",
    "                                                                Year INT,\n",
    "                                                                Quarter INT,\n",
    "                                                                Pincodes INT,\n",
    "                                                                Metric_count INT,\n",
    "                                                                Metric_amount INT)''')\n",
    "mydb.commit()"
   ]
  },
  {
   "cell_type": "code",
   "execution_count": null,
   "metadata": {},
   "outputs": [],
   "source": [
    "#Top_trans inserting process\n",
    "Top_trans_insert='''INSERT INTO phonepae.Top_trans(State, Year, Quarter, Pincodes, Metric_count, Metric_amount)\n",
    "VALUES(%s, %s, %s, %s, %s, %s) '''\n",
    "data=Top_trans.values.tolist()\n",
    "mycursor.executemany(Top_trans_insert,data)\n",
    "mydb.commit()"
   ]
  },
  {
   "cell_type": "code",
   "execution_count": null,
   "metadata": {},
   "outputs": [],
   "source": [
    "#Top_Users table creation\n",
    "Top_Users_table=mycursor.execute('''CREATE TABLE IF NOT EXISTS phonepae.Top_Users(State VARCHAR(255),\n",
    "                                                                Year INT,\n",
    "                                                                Quarter INT,\n",
    "                                                                Pincodes INT,\n",
    "                                                                RegisteredUsers INT)''')\n",
    "mydb.commit()"
   ]
  },
  {
   "cell_type": "code",
   "execution_count": null,
   "metadata": {},
   "outputs": [],
   "source": [
    "#Top_Users inserting process\n",
    "Top_Users_insert='''INSERT INTO phonepae.Top_Users(State, Year, Quarter, Pincodes, RegisteredUsers)\n",
    "VALUES(%s, %s, %s, %s, %s) '''\n",
    "data=Top_Users.values.tolist()\n",
    "mycursor.executemany(Top_Users_insert,data)\n",
    "mydb.commit()"
   ]
  }
 ],
 "metadata": {
  "kernelspec": {
   "display_name": "test",
   "language": "python",
   "name": "python3"
  },
  "language_info": {
   "codemirror_mode": {
    "name": "ipython",
    "version": 3
   },
   "file_extension": ".py",
   "mimetype": "text/x-python",
   "name": "python",
   "nbconvert_exporter": "python",
   "pygments_lexer": "ipython3",
   "version": "3.12.2"
  }
 },
 "nbformat": 4,
 "nbformat_minor": 2
}
